{
  "nbformat": 4,
  "nbformat_minor": 0,
  "metadata": {
    "colab": {
      "name": "Copy of Welcome To Colaboratory",
      "provenance": [],
      "collapsed_sections": [],
      "toc_visible": true
    },
    "kernelspec": {
      "display_name": "Python 3",
      "name": "python3"
    }
  },
  "cells": [
    {
      "cell_type": "code",
      "metadata": {
        "id": "5RUHBFn3nHgc"
      },
      "source": [
        "import requests\n",
        "from datetime import datetime\n",
        "\n",
        "my_Api = \"b3168d2f0e68cfdd2aa6e6edbe2da57c\"\n",
        "city = (input(\"Enter the name of city: \")).upper()\n",
        "\n",
        "link = \"https://api.openweathermap.org/data/2.5/weather?q=\"+city+\"&appid=\"+my_Api\n",
        "api = requests.get(link)\n",
        "data = api.json()\n",
        "# print(data)\n",
        "temperature = ((data[\"main\"][\"temp\"])-273)\n",
        "# print(round(temperature))\n",
        "weather_cond = data[\"weather\"][0][\"description\"]\n",
        "# print(weather_cond)\n",
        "Humidity = data[\"main\"][\"humidity\"]\n",
        "# print(Humidity)\n",
        "Wind_speed = data[\"wind\"][\"speed\"]\n",
        "# print(Wind_speed)\n",
        "t_and_d = datetime.now().strftime(\"%d %b %Y || %I:%M:%S %p \")\n",
        "# print(t_and_d)\n",
        "\n",
        "print(f\"Enter city name : {city}\")\n",
        "print(\"----------------------------------------------------------------\")\n",
        "print(f\"Weather Status - {city}  || {t_and_d} \")\n",
        "print(\"----------------------------------------------------------------\")\n",
        "print(f\"Current temperature is : {round(temperature)}\\N{DEGREE SIGN}C \\nCurrent weather descr  : {weather_cond} \"\n",
        "      f\"\\nCurrent Humidity       : {Humidity}% \\nCurrent wind speed     : {Wind_speed} kmph \")\n",
        "print(\"================================================================\")\n",
        "\n"
      ],
      "execution_count": null,
      "outputs": []
    }
  ]
}